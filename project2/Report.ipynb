{
 "cells": [
  {
   "cell_type": "markdown",
   "id": "07f78fc8",
   "metadata": {},
   "source": [
    "## **Workout Statistics Technical Report**"
   ]
  },
  {
   "cell_type": "markdown",
   "id": "df059bce",
   "metadata": {},
   "source": [
    "### **Audience & context: Who is this dashboard for?**"
   ]
  },
  {
   "cell_type": "markdown",
   "id": "dd4dc951",
   "metadata": {},
   "source": [
    "This dashboard is intended for people interested in looking at statistics related to working out, such as fitness coaches or gym managers. By looking at these visuals the viewer can get an understanding or look at information specific to novice gym goers, or the information specific to people who do a certain type of workout or even combine filters and look the cooresponding data. This dashboard could prove useful to somebody who wants to compare how thing such as consistency in the gym and experience effect the gym goers results. This data could also be used to analyze patterns and maybe even change their own routine if theres enough evidence to say that their routine is subpar."
   ]
  },
  {
   "cell_type": "markdown",
   "id": "bbbb31aa",
   "metadata": {},
   "source": [
    "### **KPIs chosen: What measures did you prioritize, and why?**\n"
   ]
  },
  {
   "cell_type": "markdown",
   "id": "d63f0837",
   "metadata": {},
   "source": [
    "The following KPIs were selected as some of the most important features that the audience would prioritize. \n",
    "- **Calories Burned:** A metric that is used to help gauge how effective a workout is\n",
    "- **Maximum/Average Heart Rate:** These indicators are used to tell the viewer how intense a workout is, this is often paired with calories burned to aim for efficiency (high calories burned with less intensity)\n",
    "- **Session Duration:** This is used to show how consistent the samples are\n",
    "- **Workout Frequency:** By factoring how many days a week somebody goes to the gym, we can assess their habits\n",
    "- **Workout Type:** Used to differentiate the workout activities that lead to higher calories burned with less intensity  \n",
    "  \n",
    "These KPIs were chosen for this dashboard because they are common data points that the anticipated target audience would look for or care about. These KPIs are also essential for understanding and improving fitness performance. "
   ]
  },
  {
   "cell_type": "markdown",
   "id": "9459cc88",
   "metadata": {},
   "source": [
    "### **Dashboard Structure**\n"
   ]
  },
  {
   "cell_type": "markdown",
   "id": "1204f056",
   "metadata": {},
   "source": [
    "This dashboard was built using Power BI and has a mix of interactive charts and utilizes slicers that allow the users to explore the data in many different ways.  \n",
    "  \n",
    "\n",
    "#### Visuals Include:\n",
    "- **Stacked Column Chart:** This chart shows the average calories burned against average maximum heart rate, this allows for users to see how workout intensity affects calories burned\n",
    "- **Line Chart:** Displays the average calories burned by session duration, this chart is used to identify any trends between workout length and energy usage\n",
    "- **Donut Chart:** Visualizes the distribution of experience levels, providing context on how the samples are being distributed\n",
    "- **Clustered Bar Chart:** Is used to compare average workout frequency by gender, and is used to highlight the difference in consistency between groups\n",
    "- **Pie Chart:** Illustrates workout type distribution, this is used to give an overview of what type of workouts the users prefer doing  \n",
    "  \n",
    "\n",
    "#### Filters/Slicers:  \n",
    "- **Gender:** Allows the user to select between male and female participants\n",
    "- **Age Range:** Focuses on specific age demographics\n",
    "- **Height Range:** Helps analyze correlations between body type and performance\n",
    "- **Workout Frequency:** Filters data based on how often the user exercises weekly by days  \n",
    "  \n",
    "\n",
    "These KPIs allow for a wide range of visuals and data and the slicers allow the user to get more targeted insights into the data."
   ]
  },
  {
   "cell_type": "markdown",
   "id": "c268a477",
   "metadata": {},
   "source": [
    "### **Data Cleaning**"
   ]
  },
  {
   "cell_type": "markdown",
   "id": "721370cd",
   "metadata": {},
   "source": [
    "The data used on this dashboard was very complete and usable, because of this, there was no need for data cleaning!"
   ]
  },
  {
   "cell_type": "markdown",
   "id": "82f6d931",
   "metadata": {},
   "source": [
    "### **Design Choices**"
   ]
  },
  {
   "cell_type": "markdown",
   "id": "76e0e9bf",
   "metadata": {},
   "source": [
    "- **Color Scheme:** The dashboard has a dark blue backgroud with vibrant colors on top to ensure each visual is easy to see and doesn't blend in with the background. White text is used for all labels and stands out prominantly in the dark background and other lighter blues and reds are used in the visuals.\n",
    "- **Chart Selection:** By employing charts that effectively show trends and others such as the bar and pie to do comparisons the data is being properly displayed.\n",
    "- **Layout:** The visuals are properly spaced to not overlap and mix up labels. \n",
    "- **Interactivity:** Users can press on practically any part of the dashboard and update the view to their liking, with the use of the slicers, a user can also look into more targeted data visuals."
   ]
  },
  {
   "cell_type": "markdown",
   "id": "54a7311a",
   "metadata": {},
   "source": [
    "### **Reflection**\n"
   ]
  },
  {
   "cell_type": "markdown",
   "id": "c404429c",
   "metadata": {},
   "source": [
    "What worked really well was my color scheme and the slicers I used to filter the data on the dashboard. What proved to be not so challenging, but time consuming was traversing through Power BI to properly color the visuals. There were very roundabout and tedious steps taken to match the coloring of all of the backgrounds and text on the dashboard. If I were to do this again with more time I would prioritize having more diverse slicers, aside from that I am quite proud of how my dashboard ended up looking."
   ]
  },
  {
   "cell_type": "markdown",
   "id": "ae129153",
   "metadata": {},
   "source": [
    "### **Code/data Access**  \n",
    "Download Power BI file from project 2 repository."
   ]
  }
 ],
 "metadata": {
  "language_info": {
   "name": "python"
  }
 },
 "nbformat": 4,
 "nbformat_minor": 5
}
